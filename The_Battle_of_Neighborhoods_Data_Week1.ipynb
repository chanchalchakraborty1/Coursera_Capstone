{
 "cells": [
  {
   "cell_type": "markdown",
   "metadata": {
    "collapsed": true
   },
   "source": [
    "# Capstone Project - The Battle of Neighborhoods (Week 1) \n",
    "## Starting Laundromat Services in Toronto City\n",
    "\n",
    "## A description of the data and how it will be used to solve the problem\n",
    "\n",
    "\n",
    "### Datasets used for analysing  Toronto City\n",
    "\n",
    "#### Data 1 :\n",
    "First data set contains 11 boroughs and 103 neighborhoods along with Postal codes associated to those. This data is loaded from the Wikipedia page.\n",
    "                 ( https://en.wikipedia.org/wiki/List_of_postal_codes_of_Canada:_M_)\n",
    "                  \n",
    " \n",
    "\n",
    "#### Data 2 :  \n",
    "Neighborhood has a total of 11 boroughs and 103 neighborhoods. In order to segment the   neighborhoods and explore them, we will essentially need a dataset that contains the 11 boroughs and the neighborhoods that exist in each borough as well as the latitude and longitude coordinates of each neighborhood.<br>\n",
    "Second data is csv file that has the geographical coordinates of each postal code downloaded from http://cocl.us/Geospatial_data.\n",
    "\n",
    "  \n",
    "#### Data 3 :\n",
    "Toronto city geographical coordinates data will be utilized as input for the Foursquare API, that will be leveraged to provision venues information for each neighborhood like existing Laundromat and nearest Hotel, hostel & motel information ( www.foursquare.com ) <br>\n",
    "The images of the Foursquare API data are charted below\n",
    "Laundromat information\n",
    " \n",
    "Information of hotels, hostels and motels in the neighborhood of Toronto\n",
    "\n",
    " \n",
    "The locations of all existing Laundromats or laundry services in the Toronto city region need to be extracted to survey the competition. Secondly, the locations of travel accommodations such as hotels, hostels and motels in the region will be obtained. This is to estimate the number of visitors that would frequently require the Laundromat services, based on the assumption that the clientele of the Laundromat would be mainly comprised of travellers. <br>\n",
    "\n",
    "#### Methodology adopted to solve the problem\n",
    "\n",
    "Toronto city neighbourhood has a total of 11 boroughs and 103 neighborhoods.<br> \n",
    "\n",
    "In order to search for locations of the existing Laundromats and hotels in the city of Toronto, it is  necessary to find the coordinates of the neighbourhoods in Toronto for querying the Foursquare API. Hence, the following steps were taken.<br> \n",
    "\n",
    "\n",
    " - The Wikipedia page (https://en.wikipedia.org/wiki/List_of_postal_codes_of_Canada:_M_) was scraped using the BeautifulSoup library to build a pandas dataframe listing the boroughs and neighborhoods in Toronto. The dataframe was cleaned and processed appropriately. \n",
    " \n",
    " - Next, the geographical coordinates of each neighborhood was obtained from the csv downloaded from http://cocl.us/Geospatial_data. \n",
    "               \n",
    " - The postal codes for each of the neighborhoods were matched to the information from the csv file and the original pandas dataframe was updated to list the corresponding geographical coordinate for each neighborhood.\n",
    "               \n",
    " - To limit the range of the data, only the Central Toronto borough was investigated as this is the centre of Toronto where the tourists are centered. The neighbourhoods from the borough of Central Toronto were extracted and listed in a dataframe. \n",
    " - The Foursquare API was then used to query each of the neighbourhood for the keywords {laundromats, laundry} and {hotel, hostel, motel}.  The resulting locations for each venue were tabulated and stored in a new dataframe and visualised using Folium. \n",
    " \n",
    "- In order to see the aggregation of the Laundromats and hotels, hierarchical clustering was used to cluster the Laundromats and hotels separately. Hierarchical clustering was used because there was no need for a cluster number to be selected and can be purely based on the distance between the venues. The resulting clusters were plotted on a Folium map. \n",
    "- A better visualisation was performed by obtaining the cluster centres for each group of Laundromat and hotel. The cluster centres were plotted on a Folium map, with the circle marker weighted corresponding to the number of venues in the specific cluster.\n",
    "\n",
    "\n",
    "\n",
    "\n"
   ]
  }
 ],
 "metadata": {
  "kernelspec": {
   "display_name": "Python 3.6",
   "language": "python",
   "name": "python3"
  },
  "language_info": {
   "codemirror_mode": {
    "name": "ipython",
    "version": 3
   },
   "file_extension": ".py",
   "mimetype": "text/x-python",
   "name": "python",
   "nbconvert_exporter": "python",
   "pygments_lexer": "ipython3",
   "version": "3.6.8"
  }
 },
 "nbformat": 4,
 "nbformat_minor": 1
}
