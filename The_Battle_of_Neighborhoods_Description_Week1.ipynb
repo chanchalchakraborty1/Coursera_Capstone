{
 "cells": [
  {
   "cell_type": "markdown",
   "metadata": {
    "collapsed": true
   },
   "source": [
    "# Capstone Project - The Battle of Neighborhoods (Week 1)\n",
    "## Opening of Laundromat Services in Toronto City\n",
    "## A description of the problem and a discussion of the background\n",
    "\n",
    "### Introduction & Business Problem\n",
    "\n",
    "### Problem Statement\n",
    "Toronto city is the capital of the province of Ontario, southeastern Canada. It is the most populous city in Canada, a multicultural city, and the country’s financial and commercial centre. Its location on the northwestern shore of Lake Ontario, which forms part of the border between Canada and the United States, and its access to Atlantic shipping via the St. Lawrence Seaway and to major U.S. industrial centres via the Great Lakes have enabled Toronto to become an important international trading centre.<br> Moreover, the city is positioned on the edge of some of the best farmland in Canada, with a climate favourable to growing a wide range of crops, thereby making Toronto a transportation, distribution, and manufacturing centre. Most importantly, its central location, along with a host of political policies favouring international trade, places this city with the greatest economic ties to, and influence from, the United States. Since the second half of the 20th century the city has grown phenomenally, from a rather sedate provincial town—“Toronto the Good”—to a lively, thriving, cosmopolitan metropolitan area.\n",
    "The city is home to the Toronto Stock Exchange, the headquarters of Canada's five largest banks, and the headquarters of many large Canadian and multinational corporations. Its economy is highly diversified with strengths in technology, design, financial services, life sciences, education, arts, fashion, business services, environmental innovation, food services, and tourism.<br> \n",
    "This also means that the market is highly competitive. As it is highly developed city so cost of doing business is also one of the highest. Thus, any new business venture or expansion needs to be analysed carefully. The insights derived from analysis will give good understanding of the business environment which help in strategically targeting the market. This will help in reduction of risk. And the Return on Investment will be reasonable.<br>\n",
    "Toronto is the main regional tourist centre serving the Muskoka Lakes, the Haliburton Highlands, and Georgian Bay, all magnificent lakeland and forest areas with fine hunting, fishing, and camping facilities. There has been a remarkable increase in winter sports, and, although Ontario’s highest point is only 2,183 feet (665 metres), many skiing facilities are available within easy reach of the city, and two are within the city boundaries. Algonquin Provincial Park is some 130 miles (210 km) to the north, Niagara Falls is about 50 miles (80 km) south, and the city is surrounded by beautiful rolling farmland, with well-marked sites of historical and architectural interest. Camping, cottaging, boating, and fishing are the most popular forms of outdoor recreation in the summer and skiing, ice hockey, and curling in the winter.<br>\n",
    " \n",
    "The Hockey Hall of Fame is a museum dedicated to ice hockey, as well as a Hall of Fame.<br>\n",
    "The Canadian National Exhibition (\"The Ex\") is held annually at Exhibition Place, and it is the oldest annual fair in the world. The Ex has an average attendance of 1.25 million. City shopping areas include the Yorkville neighbourhood, Queen West, Harbourfront, the Entertainment District, the Financial District, and the St. Lawrence Market neighbourhood. The Eaton Centre is Toronto's most popular tourist attraction with over 52 million visitors annually. <br>\n",
    "Greektown on the Danforth is home to the annual \"Taste of the Danforth\" festival which attracts over one million people in 2½ days. Other notable neighbourhoods and attractions in Toronto include The Beaches, the Toronto Islands, Kensington Market, Fort York, and the Hockey Hall of Fame.<br>\n",
    "### Background Analysis\n",
    "Toronto is the provincial capital of Ontario and the most populous city in Canada, with a population of 2,956,024 as of 2018. The Toronto census metropolitan area (CMA), of which the majority is within the Greater Toronto Area (GTA), held a population of 6,341,935, making it Canada's most populous CMA. The city is the anchor of the Golden Horseshoe, an urban agglomeration of 9,245,438 people surrounding the western end of Lake Ontario. Toronto is an international centre of business, finance, arts, and culture, and is recognized as one of the most multicultural and cosmopolitan cities in the world.\n",
    "The huge influx of visitors has propelled the burgeoning demand on hotels and hostels in the region. With the growth in travel accommodations, laundry services would also be increasingly in demand. Investors interested in a business with low investment and high return can look to the business of Laundromats in a city with a high tourist volume, such as Toronto. Tourists would often favour a cheaper alternative than hotel laundry services, which explains the mushrooming of Laundromats in tourist-rich cities.<br> \n",
    "#### Therefore, the problem statement is: \n",
    "What is the best/most optimal place to set up a Laundromat in the city of Toronto that is in close proximity to travel accommodations and preferably at a distance from other competing Laundromats? <br>\n",
    "\n",
    "Our main goal is to get optimum location for new Laundromat business in Toronto City for ABC Company.Various factors need to be studied and various questions need to be answered in order to decide on the Location such as :\n",
    " - Toronto Population\n",
    " - Toronto City Demographics\n",
    " - Are there any Hotels nearby so that the service can be extended to the Hotel dwellers with quality and cost?\n",
    " - Are there any venues the locations of travel accommodations such as hostels and motels in the region so that the travellers can avail this service?\n",
    " - Who are the competitors in that location?\n",
    " - Types of Services of the competitors\n",
    " - Segmentation of the Borough - both demographic and psychographic  (lifestyle)\n",
    " \n",
    "###  Target Audience\n",
    "To recommend the correct location, ABC Company Ltd has appointed me to lead the Data Science team. The objective is to locate and recommend to the management which neighborhood of Toronto City will be best choice to start a Laundromat  after due diligence of environment analysis. This would interest anyone who wants to start a new Laundromat in Toronto City. \n",
    "\n",
    "Even though well funded ABC Company Ltd needs to choose the correct location to start its first venture. If this is successful they can replicate the same in other locations. First move is very important, thereby choice of location is very important.\n",
    "\n",
    "\n",
    "\n",
    "\n",
    "\n"
   ]
  }
 ],
 "metadata": {
  "kernelspec": {
   "display_name": "Python 3.6",
   "language": "python",
   "name": "python3"
  },
  "language_info": {
   "codemirror_mode": {
    "name": "ipython",
    "version": 3
   },
   "file_extension": ".py",
   "mimetype": "text/x-python",
   "name": "python",
   "nbconvert_exporter": "python",
   "pygments_lexer": "ipython3",
   "version": "3.6.8"
  }
 },
 "nbformat": 4,
 "nbformat_minor": 1
}
